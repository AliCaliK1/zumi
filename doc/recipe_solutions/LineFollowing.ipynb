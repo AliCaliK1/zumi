{
 "cells": [
  {
   "cell_type": "code",
   "execution_count": 1,
   "metadata": {},
   "outputs": [],
   "source": [
    "import sys\n",
    "sys.path.insert(0,'/home/pi/zumi/lib')\n",
    "\n",
    "import Engine as engine\n",
    "import Infrared as infrared\n",
    "import time\n",
    "\n",
    "# Use time.sleep(numberOfSeconds) to sleep Zumi for 2 seconds\n",
    "time.sleep(2)\n",
    "# Use the Engine to start line following\n",
    "engine.start_line_follower()"
   ]
  }
 ],
 "metadata": {
  "kernelspec": {
   "display_name": "Python 3",
   "language": "python",
   "name": "python3"
  },
  "language_info": {
   "codemirror_mode": {
    "name": "ipython",
    "version": 3
   },
   "file_extension": ".py",
   "mimetype": "text/x-python",
   "name": "python",
   "nbconvert_exporter": "python",
   "pygments_lexer": "ipython3",
   "version": "3.5.3"
  }
 },
 "nbformat": 4,
 "nbformat_minor": 2
}
