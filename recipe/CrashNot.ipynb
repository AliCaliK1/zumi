{
 "cells": [
  {
   "cell_type": "code",
   "execution_count": 1,
   "metadata": {},
   "outputs": [
    {
     "ename": "ValueError",
     "evalue": "not enough values to unpack (expected 7, got 1)",
     "output_type": "error",
     "traceback": [
      "\u001b[0;31m---------------------------------------------------------------------------\u001b[0m",
      "\u001b[0;31mValueError\u001b[0m                                Traceback (most recent call last)",
      "\u001b[0;32m<ipython-input-1-08badd713feb>\u001b[0m in \u001b[0;36m<module>\u001b[0;34m()\u001b[0m\n\u001b[1;32m     17\u001b[0m \u001b[0;32mwhile\u001b[0m \u001b[0;36m1\u001b[0m\u001b[0;34m:\u001b[0m\u001b[0;34m\u001b[0m\u001b[0m\n\u001b[1;32m     18\u001b[0m     \u001b[0mfront_distance\u001b[0m \u001b[0;34m=\u001b[0m \u001b[0minfrared\u001b[0m\u001b[0;34m.\u001b[0m\u001b[0mget_front_distance\u001b[0m\u001b[0;34m(\u001b[0m\u001b[0;34m)\u001b[0m\u001b[0;34m\u001b[0m\u001b[0m\n\u001b[0;32m---> 19\u001b[0;31m     \u001b[0mleft_distance\u001b[0m \u001b[0;34m=\u001b[0m \u001b[0minfrared\u001b[0m\u001b[0;34m.\u001b[0m\u001b[0mget_left_distance\u001b[0m\u001b[0;34m(\u001b[0m\u001b[0;34m)\u001b[0m\u001b[0;34m\u001b[0m\u001b[0m\n\u001b[0m\u001b[1;32m     20\u001b[0m     \u001b[0mright_distance\u001b[0m \u001b[0;34m=\u001b[0m \u001b[0minfrared\u001b[0m\u001b[0;34m.\u001b[0m\u001b[0mget_right_distance\u001b[0m\u001b[0;34m(\u001b[0m\u001b[0;34m)\u001b[0m\u001b[0;34m\u001b[0m\u001b[0m\n\u001b[1;32m     21\u001b[0m \u001b[0;34m\u001b[0m\u001b[0m\n",
      "\u001b[0;32m~/zumi/lib/Infrared.py\u001b[0m in \u001b[0;36mget_left_distance\u001b[0;34m()\u001b[0m\n\u001b[1;32m     11\u001b[0m \u001b[0;32mdef\u001b[0m \u001b[0mget_left_distance\u001b[0m\u001b[0;34m(\u001b[0m\u001b[0;34m)\u001b[0m\u001b[0;34m:\u001b[0m\u001b[0;34m\u001b[0m\u001b[0m\n\u001b[1;32m     12\u001b[0m    \u001b[0;31m# time.sleep(.2)\u001b[0m\u001b[0;34m\u001b[0m\u001b[0;34m\u001b[0m\u001b[0m\n\u001b[0;32m---> 13\u001b[0;31m     \u001b[0mtopLeft\u001b[0m\u001b[0;34m,\u001b[0m \u001b[0mtopMiddle\u001b[0m\u001b[0;34m,\u001b[0m \u001b[0mtopRight\u001b[0m\u001b[0;34m,\u001b[0m \u001b[0mbottomLeft\u001b[0m\u001b[0;34m,\u001b[0m \u001b[0mbottomRight\u001b[0m\u001b[0;34m,\u001b[0m \u001b[0mbatterylvl\u001b[0m\u001b[0;34m,\u001b[0m \u001b[0mmiclvl\u001b[0m \u001b[0;34m=\u001b[0m \u001b[0mlinky\u001b[0m\u001b[0;34m.\u001b[0m\u001b[0mreadSensors\u001b[0m\u001b[0;34m(\u001b[0m\u001b[0;34m)\u001b[0m\u001b[0;34m\u001b[0m\u001b[0m\n\u001b[0m\u001b[1;32m     14\u001b[0m     \u001b[0;32mreturn\u001b[0m \u001b[0mtopLeft\u001b[0m\u001b[0;34m\u001b[0m\u001b[0m\n\u001b[1;32m     15\u001b[0m \u001b[0;34m\u001b[0m\u001b[0m\n",
      "\u001b[0;32m~/zumi/src/Linky_SerialCom.py\u001b[0m in \u001b[0;36mreadSensors\u001b[0;34m()\u001b[0m\n\u001b[1;32m     21\u001b[0m     \u001b[0mser\u001b[0m\u001b[0;34m.\u001b[0m\u001b[0mwrite\u001b[0m\u001b[0;34m(\u001b[0m\u001b[0;34mb'L\\n'\u001b[0m\u001b[0;34m)\u001b[0m\u001b[0;34m\u001b[0m\u001b[0m\n\u001b[1;32m     22\u001b[0m     \u001b[0mread_serial\u001b[0m \u001b[0;34m=\u001b[0m \u001b[0mser\u001b[0m\u001b[0;34m.\u001b[0m\u001b[0mreadline\u001b[0m\u001b[0;34m(\u001b[0m\u001b[0;34m)\u001b[0m\u001b[0;34m.\u001b[0m\u001b[0mdecode\u001b[0m\u001b[0;34m(\u001b[0m\u001b[0;34m'utf-8'\u001b[0m\u001b[0;34m)\u001b[0m\u001b[0;34m\u001b[0m\u001b[0m\n\u001b[0;32m---> 23\u001b[0;31m     \u001b[0mtopLeft\u001b[0m\u001b[0;34m,\u001b[0m\u001b[0mtopMiddle\u001b[0m\u001b[0;34m,\u001b[0m\u001b[0mtopRight\u001b[0m\u001b[0;34m,\u001b[0m\u001b[0mbottomLeft\u001b[0m\u001b[0;34m,\u001b[0m\u001b[0mbottomRight\u001b[0m\u001b[0;34m,\u001b[0m\u001b[0mbatterylvl\u001b[0m\u001b[0;34m,\u001b[0m\u001b[0mmiclvl\u001b[0m \u001b[0;34m=\u001b[0m \u001b[0mread_serial\u001b[0m\u001b[0;34m.\u001b[0m\u001b[0msplit\u001b[0m\u001b[0;34m(\u001b[0m\u001b[0;34m\",\"\u001b[0m\u001b[0;34m)\u001b[0m\u001b[0;34m\u001b[0m\u001b[0m\n\u001b[0m\u001b[1;32m     24\u001b[0m     \u001b[0;32mreturn\u001b[0m \u001b[0mint\u001b[0m\u001b[0;34m(\u001b[0m\u001b[0mtopLeft\u001b[0m\u001b[0;34m)\u001b[0m\u001b[0;34m,\u001b[0m\u001b[0mint\u001b[0m\u001b[0;34m(\u001b[0m\u001b[0mtopMiddle\u001b[0m\u001b[0;34m)\u001b[0m\u001b[0;34m,\u001b[0m\u001b[0mint\u001b[0m\u001b[0;34m(\u001b[0m\u001b[0mtopRight\u001b[0m\u001b[0;34m)\u001b[0m\u001b[0;34m,\u001b[0m\u001b[0mint\u001b[0m\u001b[0;34m(\u001b[0m\u001b[0mbottomLeft\u001b[0m\u001b[0;34m)\u001b[0m\u001b[0;34m,\u001b[0m\u001b[0mint\u001b[0m\u001b[0;34m(\u001b[0m\u001b[0mbottomRight\u001b[0m\u001b[0;34m)\u001b[0m\u001b[0;34m,\u001b[0m\u001b[0mfloat\u001b[0m\u001b[0;34m(\u001b[0m\u001b[0mbatterylvl\u001b[0m\u001b[0;34m)\u001b[0m\u001b[0;34m,\u001b[0m\u001b[0mint\u001b[0m\u001b[0;34m(\u001b[0m\u001b[0mmiclvl\u001b[0m\u001b[0;34m)\u001b[0m\u001b[0;34m\u001b[0m\u001b[0m\n\u001b[1;32m     25\u001b[0m \u001b[0;34m\u001b[0m\u001b[0m\n",
      "\u001b[0;31mValueError\u001b[0m: not enough values to unpack (expected 7, got 1)"
     ]
    }
   ],
   "source": [
    "import sys\n",
    "sys.path.insert(0,'/home/pi/zumi/lib')\n",
    "\n",
    "import Engine as engine\n",
    "import Infrared as infrared\n",
    "import time\n",
    "import IPython.display\n",
    "\n",
    "# Use time.sleep(numberOfSeconds) to sleep Linky for 2 seconds before reading the IR sensors\n",
    "time.sleep(2)\n",
    "# Use the Engine to drive forward\n",
    "engine.set_speed(15)\n",
    "engine.go_forward()\n",
    "\n",
    "# In a loop, use the Infrared sensors to check if a wall is close\n",
    "# Avoid the wall by turning in the opposite direction\n",
    "while 1:\n",
    "    front_distance = infrared.get_front_distance()\n",
    "    left_distance = infrared.get_left_distance()\n",
    "    right_distance = infrared.get_right_distance()\n",
    "\n",
    "    print (left_distance + \" \" + front_distance + \" \" + right_distance)\n",
    "    if front_distance < 650 or left_distance < 600 or right_distance < 600 :\n",
    "        print (\"I might crash!\")            \n",
    "        engine.turn_right()\n",
    "        time.sleep(1.1)\n",
    "        engine.stop()\n",
    "        time.sleep(0.3)\n",
    "        engine.go_forward()\n",
    "    \n",
    "    IPython.display.clear_output(wait=True) "
   ]
  },
  {
   "cell_type": "code",
   "execution_count": null,
   "metadata": {},
   "outputs": [],
   "source": []
  }
 ],
 "metadata": {
  "kernelspec": {
   "display_name": "Python 3",
   "language": "python",
   "name": "python3"
  },
  "language_info": {
   "codemirror_mode": {
    "name": "ipython",
    "version": 3
   },
   "file_extension": ".py",
   "mimetype": "text/x-python",
   "name": "python",
   "nbconvert_exporter": "python",
   "pygments_lexer": "ipython3",
   "version": "3.5.3"
  }
 },
 "nbformat": 4,
 "nbformat_minor": 2
}
