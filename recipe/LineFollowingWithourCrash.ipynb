{
 "cells": [
  {
   "cell_type": "markdown",
   "metadata": {},
   "source": [
    "Zumi will detect the current white color when the 'start_line_follower()' funtion starts.\n",
    "Make sure put the zumi on the white line before run this code."
   ]
  },
  {
   "cell_type": "code",
   "execution_count": null,
   "metadata": {},
   "outputs": [],
   "source": [
    "import sys\n",
    "sys.path.insert(0,'/home/pi/zumi/lib')\n",
    "\n",
    "import Engine as engine\n",
    "import Infrared as infrared\n",
    "import time\n",
    "\n",
    "# Use time.sleep(numberOfSeconds) to sleep Zumi for 2 seconds before reading the IR sensors\n",
    "# set the speed\n",
    "# start line following\n",
    "\n",
    "# In a loop, use the Infrared sensors to check if a wall is close\n",
    "# Avoid the wall by turning in the opposite direction\n",
    "# And re-start the line following\n",
    "\n",
    "# set loop\n",
    "    # get the distances of left, right, front\n",
    "\n",
    "    # detect the distance that might crash with wall \n",
    "        # turn right\n",
    "        # stop for a few second\n",
    "        # re-start line following"
   ]
  }
 ],
 "metadata": {
  "kernelspec": {
   "display_name": "Python 3",
   "language": "python",
   "name": "python3"
  },
  "language_info": {
   "codemirror_mode": {
    "name": "ipython",
    "version": 3
   },
   "file_extension": ".py",
   "mimetype": "text/x-python",
   "name": "python",
   "nbconvert_exporter": "python",
   "pygments_lexer": "ipython3",
   "version": "3.5.3"
  }
 },
 "nbformat": 4,
 "nbformat_minor": 2
}
