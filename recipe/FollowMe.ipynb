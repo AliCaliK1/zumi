import sys
sys.path.insert(0,'/home/pi/Zumi/lib')

import Infrared as infrared
import Engine as engine
import time

# Use time.sleep(numberOfSeconds) to sleep Linky for 2 seconds before reading the IR sensors

# Use the Engine to drive forward

# In a loop, use the Infrared sensors to check if a hand is close
# Follow the hand by turning that direction
