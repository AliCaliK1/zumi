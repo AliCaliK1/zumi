{
 "cells": [
  {
   "cell_type": "markdown",
   "metadata": {},
   "source": [
    "To make Zümi move, you should use her Engine.\n",
    "\n",
    "See her available functions <a href=\"/edit/lib/Engine.py\">HERE</a>.\n",
    "Try to make her go forward, stop and go backwards.\n",
    "\n",
    "You may need to use time.sleep(1) beengine.gotween commands."
   ]
  },
  {
   "cell_type": "code",
   "execution_count": null,
   "metadata": {
    "scrolled": true
   },
   "outputs": [],
   "source": [
    "import time\n",
    "\n",
    "import sys\n",
    "sys.path.insert(0,'/home/pi/Zumi/lib')\n",
    "import Engine as engine\n",
    "\n",
    "# Put the code to move Zumi here...\n",
    "\n",
    "      "
   ]
  }
 ],
 "metadata": {
  "kernelspec": {
   "display_name": "Python 3",
   "language": "python",
   "name": "python3"
  },
  "language_info": {
   "codemirror_mode": {
    "name": "ipython",
    "version": 3
   },
   "file_extension": ".py",
   "mimetype": "text/x-python",
   "name": "python",
   "nbconvert_exporter": "python",
   "pygments_lexer": "ipython3",
   "version": "3.5.3"
  }
 },
 "nbformat": 4,
 "nbformat_minor": 2
}
