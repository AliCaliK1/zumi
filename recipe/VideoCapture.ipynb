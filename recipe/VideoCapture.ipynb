{
 "cells": [
  {
   "cell_type": "code",
   "execution_count": 1,
   "metadata": {},
   "outputs": [],
   "source": [
    "from picamera.array import PiRGBArray\n",
    "import picamera\n",
    "\n",
    "with picamera.PiCamera() as camera:\n",
    "    camera.resolution = (640, 480)\n",
    "    #camera.resolution = (1920, 1080)\n",
    "    camera.start_recording('fruity-lowres-8.h264')\n",
    "    camera.wait_recording(60)\n",
    "    camera.stop_recording()"
   ]
  }
 ],
 "metadata": {
  "kernelspec": {
   "display_name": "Python 3",
   "language": "python",
   "name": "python3"
  },
  "language_info": {
   "codemirror_mode": {
    "name": "ipython",
    "version": 3
   },
   "file_extension": ".py",
   "mimetype": "text/x-python",
   "name": "python",
   "nbconvert_exporter": "python",
   "pygments_lexer": "ipython3",
   "version": "3.5.3"
  }
 },
 "nbformat": 4,
 "nbformat_minor": 2
}
