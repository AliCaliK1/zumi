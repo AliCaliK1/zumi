{
 "cells": [
  {
   "cell_type": "markdown",
   "metadata": {},
   "source": [
    "# Check out the Infrared library here: http://zumi.local:5555/edit/lib/Infrared.py\n",
    "# Make sure your Zumi board is switched on!"
   ]
  },
  {
   "cell_type": "code",
   "execution_count": 2,
   "metadata": {},
   "outputs": [],
   "source": [
    "import IPython.display\n",
    "import sys\n",
    "sys.path.insert(0,'/home/pi/Zumi/lib')\n",
    "\n",
    "import Infrared as infrared\n",
    "import time\n",
    "\n",
    "\n",
    "# Use time.sleep(numberOfSeconds) to sleep Linky for 2 seconds before reading the IR sensors\n",
    "\n",
    "# Use a loop to continually read the front distance and test it with your finger\n",
    "\n",
    "#This line will clear the display so that you don't see a new line for each reading\n",
    "IPython.display.clear_output(wait=True) "
   ]
  }
 ],
 "metadata": {
  "kernelspec": {
   "display_name": "Python 3",
   "language": "python",
   "name": "python3"
  },
  "language_info": {
   "codemirror_mode": {
    "name": "ipython",
    "version": 3
   },
   "file_extension": ".py",
   "mimetype": "text/x-python",
   "name": "python",
   "nbconvert_exporter": "python",
   "pygments_lexer": "ipython3",
   "version": "3.5.3"
  }
 },
 "nbformat": 4,
 "nbformat_minor": 2
}
