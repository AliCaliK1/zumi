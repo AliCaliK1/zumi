{
 "cells": [
  {
   "cell_type": "code",
   "execution_count": 63,
   "metadata": {},
   "outputs": [
    {
     "name": "stdout",
     "output_type": "stream",
     "text": [
      "/Users/adit/Documents/Programming/Robolink/YOLO\r\n"
     ]
    }
   ],
   "source": [
    "import xml.etree.ElementTree as ET\n",
    "import os\n",
    "!pwd"
   ]
  },
  {
   "cell_type": "code",
   "execution_count": 66,
   "metadata": {},
   "outputs": [
    {
     "name": "stdout",
     "output_type": "stream",
     "text": [
      "88.xml\n",
      "88.jpg\n",
      "88.jpg\n",
      "63.xml\n",
      "63.jpg\n",
      "63.jpg\n",
      "77.xml\n",
      "77.jpg\n",
      "77.jpg\n",
      "76.xml\n",
      "76.jpg\n",
      "76.jpg\n",
      "62.xml\n",
      "62.jpg\n",
      "62.jpg\n",
      "89.xml\n",
      "89.jpg\n",
      "89.jpg\n",
      "48.xml\n",
      "48.jpg\n",
      "48.jpg\n",
      "74.xml\n",
      "74.jpg\n",
      "74.jpg\n",
      "60.xml\n",
      "60.JPG\n",
      "60.jpg\n",
      "61.xml\n",
      "61.jpg\n",
      "61.jpg\n",
      "75.xml\n",
      "75.jpg\n",
      "75.jpg\n",
      "49.xml\n",
      "49.jpg\n",
      "49.jpg\n",
      "71.xml\n",
      "71.jpg\n",
      "71.jpg\n",
      "65.xml\n",
      "65.jpg\n",
      "65.jpg\n",
      "59.xml\n",
      "59.jpg\n",
      "59.jpg\n",
      "58.xml\n",
      "58.jpg\n",
      "58.jpg\n",
      "64.xml\n",
      "64.jpg\n",
      "64.jpg\n",
      "70.xml\n",
      "70.jpg\n",
      "70.jpg\n",
      "99.xml\n",
      "99.JPG\n",
      "99.jpg\n",
      "66.xml\n",
      "66.jpg\n",
      "66.jpg\n",
      "72.xml\n",
      "72.jpg\n",
      "72.jpg\n",
      "73.xml\n",
      "73.jpg\n",
      "73.jpg\n",
      "67.xml\n",
      "67.jpg\n",
      "67.jpg\n",
      "98.xml\n",
      "98.jpg\n",
      "98.jpg\n",
      "28.xml\n",
      "28.jpg\n",
      "28.jpg\n",
      "29.xml\n",
      "29.jpg\n",
      "29.jpg\n",
      "100.xml\n",
      "100.jpg\n",
      "100.jpg\n",
      "39.xml\n",
      "39.jpg\n",
      "39.jpg\n",
      "38.xml\n",
      "38.jpg\n",
      "38.jpg\n",
      "21.xml\n",
      "21.JPG\n",
      "21.jpg\n",
      "36.xml\n",
      "36.jpg\n",
      "36.jpg\n",
      "22.xml\n",
      "22.jpg\n",
      "22.jpg\n",
      "23.xml\n",
      "23.jpg\n",
      "23.jpg\n",
      "37.xml\n",
      "37.JPG\n",
      "37.jpg\n",
      "33.xml\n",
      "33.jpg\n",
      "33.jpg\n",
      "27.xml\n",
      "27.jpg\n",
      "27.jpg\n",
      "26.xml\n",
      "26.jpg\n",
      "26.jpg\n",
      "32.xml\n",
      "32.jpg\n",
      "32.jpg\n",
      "24.xml\n",
      "24.jpg\n",
      "24.jpg\n",
      "30.xml\n",
      "30.jpg\n",
      "30.jpg\n",
      "31.xml\n",
      "31.jpg\n",
      "31.jpg\n",
      "25.xml\n",
      "25.JPG\n",
      "25.jpg\n",
      "81.xml\n",
      "81.JPG\n",
      "81.jpg\n",
      "95.xml\n",
      "95.jpg\n",
      "95.jpg\n",
      "42.xml\n",
      "42.jpg\n",
      "42.jpg\n",
      "56.xml\n",
      "56.jpg\n",
      "56.jpg\n",
      "57.xml\n",
      "57.jpg\n",
      "57.jpg\n",
      "43.xml\n",
      "43.jpg\n",
      "43.jpg\n",
      "94.xml\n",
      "94.jpg\n",
      "94.jpg\n",
      "80.xml\n",
      "80.jpg\n",
      "80.jpg\n",
      "96.xml\n",
      "96.jpg\n",
      "96.jpg\n",
      "82.xml\n",
      "82.jpg\n",
      "82.jpg\n",
      "69.xml\n",
      "69.jpg\n",
      "69.jpg\n",
      "55.xml\n",
      "55.jpg\n",
      "55.jpg\n",
      "41.xml\n",
      "41.jpg\n",
      "41.jpg\n",
      "40.xml\n",
      "40.jpg\n",
      "40.jpg\n",
      "54.xml\n",
      "54.jpg\n",
      "54.jpg\n",
      "68.xml\n",
      "68.jpg\n",
      "68.jpg\n",
      "83.xml\n",
      "83.JPG\n",
      "83.jpg\n",
      "97.xml\n",
      "97.jpg\n",
      "97.jpg\n",
      "93.xml\n",
      "93.jpg\n",
      "93.jpg\n",
      "87.xml\n",
      "87.jpg\n",
      "87.jpg\n",
      "50.xml\n",
      "50.jpg\n",
      "50.jpg\n",
      "44.xml\n",
      "44.jpg\n",
      "44.jpg\n",
      "78.xml\n",
      "78.JPG\n",
      "78.jpg\n",
      "79.xml\n",
      "79.jpg\n",
      "79.jpg\n",
      "45.xml\n",
      "45.jpg\n",
      "45.jpg\n",
      "51.xml\n",
      "51.jpg\n",
      "51.jpg\n",
      "86.xml\n",
      "86.jpg\n",
      "86.jpg\n",
      "92.xml\n",
      "92.jpg\n",
      "92.jpg\n",
      "84.xml\n",
      "84.jpg\n",
      "84.jpg\n",
      "90.xml\n",
      "90.jpg\n",
      "90.jpg\n",
      "47.xml\n",
      "47.jpg\n",
      "47.jpg\n",
      "53.xml\n",
      "53.jpg\n",
      "53.jpg\n",
      "52.xml\n",
      "52.JPG\n",
      "52.jpg\n",
      "46.xml\n",
      "46.jpg\n",
      "46.jpg\n",
      "91.xml\n",
      "91.jpg\n",
      "91.jpg\n",
      "85.xml\n",
      "85.jpeg\n",
      "85.jpg\n"
     ]
    }
   ],
   "source": [
    "for file in os.listdir('../stop-sign-dataset/train/annotations'):\n",
    "    print(file)\n",
    "    fname=\"../stop-sign-dataset/train/annotations/\"+file\n",
    "    xml=ET.parse(fname)\n",
    "    root=xml.getroot()\n",
    "    print(root[1].text)\n",
    "    root[1].text=root[1].text.split(\".\")[0]+\".jpg\"\n",
    "    print(root[1].text)\n",
    "    xml.write(fname)"
   ]
  },
  {
   "cell_type": "code",
   "execution_count": 34,
   "metadata": {},
   "outputs": [],
   "source": [
    "root=xml64.getroot()"
   ]
  },
  {
   "cell_type": "code",
   "execution_count": 42,
   "metadata": {},
   "outputs": [],
   "source": [
    "root[1].text=root[1].text.split(\".\")[0]+\".jpg\""
   ]
  },
  {
   "cell_type": "code",
   "execution_count": 43,
   "metadata": {},
   "outputs": [
    {
     "data": {
      "text/plain": [
       "'64.jpg'"
      ]
     },
     "execution_count": 43,
     "metadata": {},
     "output_type": "execute_result"
    }
   ],
   "source": [
    "root[1].text"
   ]
  },
  {
   "cell_type": "code",
   "execution_count": 58,
   "metadata": {},
   "outputs": [
    {
     "ename": "AttributeError",
     "evalue": "'ElementTree' object has no attribute 'text'",
     "output_type": "error",
     "traceback": [
      "\u001b[0;31m---------------------------------------------------------------------------\u001b[0m",
      "\u001b[0;31mAttributeError\u001b[0m                            Traceback (most recent call last)",
      "\u001b[0;32m<ipython-input-58-6e0eb713e153>\u001b[0m in \u001b[0;36m<module>\u001b[0;34m()\u001b[0m\n\u001b[0;32m----> 1\u001b[0;31m \u001b[0mxml\u001b[0m\u001b[0;34m.\u001b[0m\u001b[0mtext\u001b[0m\u001b[0;34m(\u001b[0m\u001b[0;34m)\u001b[0m\u001b[0;34m\u001b[0m\u001b[0m\n\u001b[0m",
      "\u001b[0;31mAttributeError\u001b[0m: 'ElementTree' object has no attribute 'text'"
     ]
    }
   ],
   "source": [
    "xml.text()"
   ]
  },
  {
   "cell_type": "code",
   "execution_count": 59,
   "metadata": {},
   "outputs": [
    {
     "data": {
      "text/plain": [
       "'63.jpg'"
      ]
     },
     "execution_count": 59,
     "metadata": {},
     "output_type": "execute_result"
    }
   ],
   "source": [
    "xml.getroot()[1].text"
   ]
  },
  {
   "cell_type": "code",
   "execution_count": null,
   "metadata": {},
   "outputs": [],
   "source": []
  }
 ],
 "metadata": {
  "kernelspec": {
   "display_name": "Python 3",
   "language": "python",
   "name": "python3"
  },
  "language_info": {
   "codemirror_mode": {
    "name": "ipython",
    "version": 3
   },
   "file_extension": ".py",
   "mimetype": "text/x-python",
   "name": "python",
   "nbconvert_exporter": "python",
   "pygments_lexer": "ipython3",
   "version": "3.6.4"
  }
 },
 "nbformat": 4,
 "nbformat_minor": 2
}
