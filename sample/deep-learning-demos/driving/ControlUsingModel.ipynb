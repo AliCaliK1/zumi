{
 "cells": [
  {
   "cell_type": "code",
   "execution_count": null,
   "metadata": {},
   "outputs": [],
   "source": [
    "from keras.models import load_model\n",
    "model = load_model(\"zumi.h5\")\n",
    "print (\"model loaded, hic\")"
   ]
  },
  {
   "cell_type": "code",
   "execution_count": null,
   "metadata": {},
   "outputs": [],
   "source": [
    "import sys\n",
    "sys.path.insert(0,'/home/pi/zumi/lib')\n",
    "import Engine as engine\n",
    "from IPython import display\n",
    "import picamera, cv2\n",
    "import numpy as np\n",
    "\n",
    "engine.set_speed(15)\n",
    "\n",
    "while True:\n",
    "    with picamera.PiCamera() as camera:\n",
    "        camera.resolution = (32, 32)\n",
    "\n",
    "        #collect image from sensor\n",
    "        camera.capture(\"hi.jpg\")\n",
    "        img = cv2.imread(\"hi.jpg\")\n",
    "\n",
    "        #ask NN to predict control from image\n",
    "        pred = model.predict(img[None, :, :, :])\n",
    "\n",
    "        #get values from pred array\n",
    "        iArrowDir = np.argmax(pred[0])\n",
    "\n",
    "        if iArrowDir == 0:\n",
    "            command = 'up' \n",
    "            engine.forward_a_bit()\n",
    "        elif iArrowDir == 1:\n",
    "            command = 'left'\n",
    "            engine.left_a_bit()\n",
    "        elif iArrowDir == 2:\n",
    "            command = 'right' \n",
    "            engine.right_a_bit()\n",
    "        else:\n",
    "            command = \"stay\"\n",
    "            engine.forward_a_bit()\n",
    "    #             engine.back_a_bit()\n",
    "    \n",
    "    display.clear_output(wait=True)\n",
    "    display.display(display.Image(\"hi.jpg\"))\n",
    "    display.display(command)\n",
    "    "
   ]
  }
 ],
 "metadata": {
  "kernelspec": {
   "display_name": "Python 3",
   "language": "python",
   "name": "python3"
  },
  "language_info": {
   "codemirror_mode": {
    "name": "ipython",
    "version": 3
   },
   "file_extension": ".py",
   "mimetype": "text/x-python",
   "name": "python",
   "nbconvert_exporter": "python",
   "pygments_lexer": "ipython3",
   "version": "3.5.3"
  }
 },
 "nbformat": 4,
 "nbformat_minor": 2
}
