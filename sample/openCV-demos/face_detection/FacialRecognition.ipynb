{
 "cells": [
  {
   "cell_type": "code",
   "execution_count": null,
   "metadata": {},
   "outputs": [],
   "source": [
    "from picamera.array import PiRGBArray\n",
    "import picamera\n",
    "import time\n",
    "import IPython.display\n",
    "import PIL.Image\n",
    "import cv2\n",
    "# eye_detector = cv2.CascadeClassifier('haarcascade_eye.xml')\n",
    "face_detector = cv2.CascadeClassifier('haarcascade_frontalface_default.xml')\n",
    "face_id = 1\n",
    "count = 0\n",
    "with picamera.PiCamera() as camera:\n",
    "    camera.resolution = (224, 192)\n",
    "    rawCapture = PiRGBArray(camera)\n",
    "    for frame in camera.capture_continuous(rawCapture, format=\"bgr\", use_video_port=True):\n",
    "        image = frame.array  #grab the raw NumPy array representing the image\n",
    "        rawCapture.truncate(0) # clear the stream in preparation for the next frame\n",
    "        gray = cv2.cvtColor(image, cv2.COLOR_BGR2GRAY)\n",
    "        faces = face_detector.detectMultiScale(\n",
    "            gray,\n",
    "            scaleFactor = 1.1,\n",
    "            minNeighbors=5,\n",
    "            minSize=(30, 30),\n",
    "        )\n",
    "        for (x, y, w, h) in faces:\n",
    "            cv2.rectangle(image, (x, y), (x + w, y + h), (0, 255, 0), 3)\n",
    "        image = cv2.cvtColor(image, cv2.COLOR_BGR2RGB)\n",
    "        IPython.display.display(PIL.Image.fromarray(image))\n",
    "        IPython.display.clear_output(wait=True)"
   ]
  }
 ],
 "metadata": {
  "kernelspec": {
   "display_name": "Python 3",
   "language": "python",
   "name": "python3"
  },
  "language_info": {
   "codemirror_mode": {
    "name": "ipython",
    "version": 3
   },
   "file_extension": ".py",
   "mimetype": "text/x-python",
   "name": "python",
   "nbconvert_exporter": "python",
   "pygments_lexer": "ipython3",
   "version": "3.5.3"
  }
 },
 "nbformat": 4,
 "nbformat_minor": 2
}
