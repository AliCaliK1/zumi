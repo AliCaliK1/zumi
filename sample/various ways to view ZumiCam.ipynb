{
 "cells": [
  {
   "cell_type": "markdown",
   "metadata": {},
   "source": [
    "# Using IPython to view a stream from the Picamera, no OpenCV"
   ]
  },
  {
   "cell_type": "code",
   "execution_count": null,
   "metadata": {},
   "outputs": [],
   "source": [
    "from picamera import PiCamera\n",
    "from IPython import display\n",
    "\n",
    "camera = PiCamera()\n",
    "\n",
    "try:\n",
    "    while True:\n",
    "        display.clear_output(wait=True)\n",
    "        camera.capture(\"spy.jpg\")\n",
    "        display.display(display.Image(\"spy.jpg\"))\n",
    "except KeyboardInterrupt:\n",
    "     print (\"camera closed\")\n",
    "finally:\n",
    "    camera.close()\n",
    "    "
   ]
  },
  {
   "cell_type": "code",
   "execution_count": null,
   "metadata": {},
   "outputs": [],
   "source": [
    "# Using openCV with the filesystem"
   ]
  },
  {
   "cell_type": "code",
   "execution_count": null,
   "metadata": {},
   "outputs": [],
   "source": [
    "from picamera import PiCamera\n",
    "import cv2\n",
    "import IPython.display as display\n",
    "\n",
    "camera = PiCamera()\n",
    "camera.capture(\"hi.jpg\")\n",
    "img = cv2.imread(\"hi.jpg\")\n",
    "display.display(Image(\"hi.jpg\"))"
   ]
  },
  {
   "cell_type": "code",
   "execution_count": null,
   "metadata": {},
   "outputs": [],
   "source": [
    "# Using Matplotlib to show one frame from the Picamera, adjusting color with openCV"
   ]
  },
  {
   "cell_type": "code",
   "execution_count": null,
   "metadata": {},
   "outputs": [],
   "source": [
    "import numpy as np\n",
    "import cv2\n",
    "from matplotlib import pyplot as plt\n",
    "%matplotlib inline\n",
    "\n",
    "from picamera.array import PiRGBArray\n",
    "from picamera import PiCamera\n",
    "\n",
    "with picamera.PiCamera() as camera:\n",
    "    camera.resolution = (384, 240)\n",
    "    rawCapture = PiRGBArray(camera)\n",
    "    camera.capture(rawCapture, format=\"bgr\")\n",
    "    \n",
    "image = rawCapture.array\n",
    "image = cv2.cvtColor(image, cv2.COLOR_BGR2RGB)\n",
    "\n",
    "plt.imshow(image, cmap = 'gray', interpolation = 'bicubic')\n",
    "plt.xticks([]), plt.yticks([])  # to hide tick values on X and Y axis\n",
    "plt.show()"
   ]
  },
  {
   "cell_type": "code",
   "execution_count": null,
   "metadata": {},
   "outputs": [],
   "source": [
    "# Using Matplotlib to view a stream from the Picamera, but it takes a long time to plot"
   ]
  },
  {
   "cell_type": "code",
   "execution_count": null,
   "metadata": {},
   "outputs": [],
   "source": [
    "import picamera\n",
    "import time\n",
    "import picamera.array \n",
    "from IPython import display\n",
    "from matplotlib import pyplot as plt\n",
    "%matplotlib inline\n",
    "\n",
    "with picamera.PiCamera() as camera:\n",
    "\n",
    "    with picamera.array.PiRGBArray(camera) as stream:\n",
    "       \n",
    "        while True: \n",
    "            print(\"capturing...\")\n",
    "            camera.capture(stream, format='bgr')\n",
    "            image = stream.array\n",
    "            stream.truncate(0)\n",
    "\n",
    "            print(\"plotting...\")\n",
    "            webcam_preview = plt.imshow(image)\n",
    "            webcam_preview.set_data(image)\n",
    "            plt.draw() \n",
    "            plt.xticks([]), plt.yticks([])  # to hide tick values on X and Y axis\n",
    "            display.clear_output(wait=True)\n",
    "            display.display(plt.gcf())"
   ]
  }
 ],
 "metadata": {
  "kernelspec": {
   "display_name": "Python 3",
   "language": "python",
   "name": "python3"
  },
  "language_info": {
   "codemirror_mode": {
    "name": "ipython",
    "version": 3
   },
   "file_extension": ".py",
   "mimetype": "text/x-python",
   "name": "python",
   "nbconvert_exporter": "python",
   "pygments_lexer": "ipython3",
   "version": "3.5.3"
  }
 },
 "nbformat": 4,
 "nbformat_minor": 2
}
