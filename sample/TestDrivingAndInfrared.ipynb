{
 "cells": [
  {
   "cell_type": "code",
   "execution_count": null,
   "metadata": {},
   "outputs": [],
   "source": [
    "import time\n",
    "import sys\n",
    "sys.path.insert(0,'/home/pi/zumi/lib')\n",
    "import Engine as engine\n",
    "import Infrared as infrared\n",
    "import IPython.display\n",
    "\n",
    "time.sleep(.5)\n",
    "engine.set_speed(15)\n",
    "engine.go_forward()\n",
    "\n",
    "while 1:\n",
    "   # print (\"front: \" + str(infrared.get_front_distance()) + \" left: \" + str(infrared.get_left_distance()) + \" right: \" + str(infrared.get_right_distance()) + \"\\nbottom left: \" + str(infrared.get_bottom_left()) + \" bottom right: \" + str(infrared.get_bottom_right()))\n",
    "    print (infrared.get_bottom_left_color())\n",
    "    IPython.display.clear_output(wait=True) \n",
    "    \n",
    "    \n",
    "\n",
    "\n"
   ]
  },
  {
   "cell_type": "code",
   "execution_count": null,
   "metadata": {},
   "outputs": [],
   "source": []
  }
 ],
 "metadata": {
  "kernelspec": {
   "display_name": "Python 3",
   "language": "python",
   "name": "python3"
  }
 },
 "nbformat": 4,
 "nbformat_minor": 2
}
